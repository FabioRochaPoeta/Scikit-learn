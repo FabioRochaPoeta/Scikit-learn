{
 "cells": [
  {
   "attachments": {},
   "cell_type": "markdown",
   "metadata": {},
   "source": [
    "# Scikit-learn\n",
    "\n",
    "From Oficial site: https://scikit-learn.org\n",
    "\n",
    "\"In order to avoid potential conflicts with other packages it is strongly recommended to use a virtual environment (venv) or a conda environment.\" \n",
    "\n",
    "Here we use a venv ( https://github.com/FabioRochaPoeta/initializaing-git-automated-power-shell ) in 3 basic examples. User guide: https://scikit-learn.org/stable/user_guide.html\n",
    "\n",
    "And here is 15 most important features of this library: https://www.analyticsvidhya.com/blog/2021/07/15-most-important-features-of-scikit-learn/"
   ]
  },
  {
   "cell_type": "code",
   "execution_count": null,
   "metadata": {},
   "outputs": [],
   "source": [
    "# Installing\n",
    "%pip install -U scikit-learn"
   ]
  },
  {
   "attachments": {},
   "cell_type": "markdown",
   "metadata": {},
   "source": [
    "## 1. Preprocessing (Dataset Transformations) - https://scikit-learn.org/stable/modules/preprocessing.html"
   ]
  },
  {
   "cell_type": "code",
   "execution_count": 8,
   "metadata": {},
   "outputs": [
    {
     "name": "stdout",
     "output_type": "stream",
     "text": [
      "Original data: [[1, -1, 2], [2, 0, 0], [0, 1, -1]]\n",
      "Scaled data: [[ 0.         -1.22474487  1.33630621]\n",
      " [ 1.22474487  0.         -0.26726124]\n",
      " [-1.22474487  1.22474487 -1.06904497]]\n"
     ]
    }
   ],
   "source": [
    "from sklearn.preprocessing import StandardScaler\n",
    "\n",
    "# Load dataset\n",
    "X = [[1, -1, 2], [2, 0, 0], [0, 1, -1]]\n",
    "scaler = StandardScaler().fit(X)\n",
    "X_scaled = scaler.transform(X)\n",
    "\n",
    "# Print results\n",
    "print(\"Original data:\", X)\n",
    "print(\"Scaled data:\", X_scaled)\n"
   ]
  },
  {
   "attachments": {},
   "cell_type": "markdown",
   "metadata": {},
   "source": [
    "This code demonstrates how to use Scikit-learn's StandardScaler class to preprocess data by scaling it to have \n",
    "### zero mean and unit variance. \n",
    "\n",
    "First, we create an instance of the StandardScaler class and fit it to the data using the fit method. Then, we transform the data using the transform method and store the scaled data in the X_scaled variable. Finally, we print both the original and scaled data to the console."
   ]
  },
  {
   "attachments": {},
   "cell_type": "markdown",
   "metadata": {},
   "source": [
    "## 2. Cross-Validating (Model selection and evaluation) - https://scikit-learn.org/stable/modules/cross_validation.html"
   ]
  },
  {
   "cell_type": "code",
   "execution_count": 9,
   "metadata": {},
   "outputs": [
    {
     "name": "stdout",
     "output_type": "stream",
     "text": [
      "Cross-validation scores: [0.96666667 0.96666667 0.9        0.93333333 1.        ]\n",
      "Mean score: 0.9533333333333334\n"
     ]
    }
   ],
   "source": [
    "from sklearn.datasets import load_iris\n",
    "from sklearn.model_selection import cross_val_score\n",
    "from sklearn.tree import DecisionTreeClassifier\n",
    "\n",
    "# Load dataset\n",
    "iris = load_iris()\n",
    "\n",
    "# Train model with cross-validation\n",
    "model = DecisionTreeClassifier()\n",
    "scores = cross_val_score(model, iris.data, iris.target, cv=5)\n",
    "\n",
    "# Print results\n",
    "print(\"Cross-validation scores:\", scores)\n",
    "print(\"Mean score:\", scores.mean())\n"
   ]
  },
  {
   "attachments": {},
   "cell_type": "markdown",
   "metadata": {},
   "source": [
    "This code demonstrates how to use Scikit-learn's cross_val_score function to \n",
    "### perform cross-validation on a machine learning model. \n",
    "\n",
    "First, we load the Iris dataset using the load_iris function. Then, we create an instance of the DecisionTreeClassifier class and use the cross_val_score function to train and evaluate the model using 5-fold cross-validation. Finally, we print the cross-validation scores and their mean to the console."
   ]
  },
  {
   "attachments": {},
   "cell_type": "markdown",
   "metadata": {},
   "source": [
    "# 3. Clustering Data (Unsupervised learning) - https://scikit-learn.org/stable/modules/clustering.html#overview-of-clustering-methods"
   ]
  },
  {
   "cell_type": "code",
   "execution_count": 10,
   "metadata": {},
   "outputs": [
    {
     "name": "stdout",
     "output_type": "stream",
     "text": [
      "Cluster labels: [0 0 1 2 2 0 1 1 1 1 2 0 2 1 1 1 2 2 2 2 1 0 0 0 1 2 2 2 1 1 0 0 1 2 2 0 0\n",
      " 1 0 0 2 1 2 0 2 0 2 2 0 1 0 2 1 0 2 0 2 2 2 1 1 2 0 0 2 2 0 1 1 2 0 2 1 1\n",
      " 1 0 1 2 2 2 1 2 2 2 1 0 1 0 2 2 2 2 1 1 0 1 0 2 1 1 1 0 0 2 0 1 1 2 1 2 0\n",
      " 1 1 1 2 1 0 0 1 2 2 1 0 1 0 0 1 0 1 1 2 1 1 0 2 0 2 1 1 1 2 2 0 0 0 2 1 2\n",
      " 2 2 2 0 1 0 2 1 2 1 2 0 1 2 2 1 2 2 1 1 0 0 1 2 2 1 2 0 1 0 1 0 2 1 2 1 2\n",
      " 0 2 0 2 0 1 2 1 1 2 0 1 1 1 0 2 1 2 2 1 2 1 2 2 1 1 0 0 1 1 2 0 2 0 1 0 0\n",
      " 1 2 0 2 2 1 0 2 2 0 2 0 1 1 0 1 0 1 0 0 0 1 0 2 1 2 1 2 1 1 0 1 2 1 2 1 1\n",
      " 1 1 2 0 1 0 0 1 2 2 0 1 2 1 1 2 0 2 0 0 1 0 1 0 1 1 2 2 1 2 0 0 2 1 1 0 2\n",
      " 1 0 0 2 0 0 1 0 2 1 0 1 0 0 0 0 0 1 0 0 1 2 0 0 1 0 0 1 0 1 2 1 2 2 1 1 0\n",
      " 0 0 2 0 1 0 1 0 1 1 1 2 2 0 0 2 2 2 2 2 1 2 2 1 2 2 0 1 1 1 1 0 1 0 0 0 1\n",
      " 1 2 2 1 2 1 2 0 1 2 0 1 0 1 1 0 2 0 1 0 1 2 0 2 0 0 0 2 1 2 2 0 2 1 2 0 1\n",
      " 2 2 0 1 2 0 0 0 1 0 2 0 1 2 2 2 2 2 0 1 0 1 1 2 2 0 2 0 1 0 1 0 2 0 0 0 1\n",
      " 2 2 1 2 0 0 0 0 2 2 0 2 1 0 1 2 1 1 2 2 1 1 1 0 1 2 0 2 2 0 0 1 0 2 1 2 0\n",
      " 1 0 1 1 2 1 0 2 2 2 1 2 0 2 0 1 1 0 0 0 2 0 2 2 1 2 1 2 1 2 0 1 2 0 1 0 2\n",
      " 2 2 2 2 2 1 0 2 1 1 1 2 2 1 2 0 1 2 2 1 1 0 0 0 0 2 0 2 2 2 0 0 0 2 2 2 2\n",
      " 2 0 1 2 2 2 2 2 2 0 0 1 1 2 2 1 1 0 0 2 0 0 0 1 2 0 0 0 2 0 2 0 1 1 0 0 0\n",
      " 0 2 1 1 2 1 2 1 1 1 1 2 0 0 1 2 0 2 2 0 2 0 0 1 0 2 2 0 1 1 2 2 0 0 1 0 1\n",
      " 2 1 0 0 2 2 0 2 1 0 1 0 1 2 1 0 2 2 1 0 0 1 1 0 0 1 0 2 2 1 2 1 0 2 0 1 1\n",
      " 2 2 0 2 1 1 0 2 0 0 0 1 0 2 1 0 1 2 1 2 1 1 2 2 0 1 2 1 2 1 1 0 2 0 2 0 1\n",
      " 1 1 0 1 0 1 1 0 0 2 2 0 0 2 1 0 1 2 1 1 0 2 2 0 1 0 2 2 0 1 2 1 2 1 0 1 1\n",
      " 0 0 0 1 1 2 2 1 1 0 1 2 0 0 0 0 0 0 0 0 0 0 1 2 1 0 2 2 2 0 1 0 1 2 1 0 2\n",
      " 2 1 0 1 0 2 1 0 2 0 0 1 1 0 2 0 1 2 2 2 0 1 0 0 2 0 1 2 1 1 0 2 2 2 2 2 0\n",
      " 2 0 0 0 0 2 1 0 0 1 2 2 1 1 0 2 1 0 2 0 1 2 2 0 1 1 2 1 1 1 2 1 0 0 2 1 0\n",
      " 0 0 1 0 1 0 0 1 1 2 0 2 0 0 2 0 0 0 2 0 0 1 1 0 1 1 2 2 2 2 0 0 1 1 1 0 2\n",
      " 1 1 1 1 1 0 2 0 0 2 1 0 0 2 1 2 2 0 2 0 2 0 2 1 1 1 0 0 2 1 1 0 0 0 1 2 1\n",
      " 0 1 2 2 2 0 2 2 0 1 0 0 1 2 2 0 2 1 1 1 1 1 2 2 1 1 2 2 1 2 0 2 2 0 2 1 1\n",
      " 0 1 0 2 0 2 0 1 2 0 1 2 1 0 1 0 2 0 1 2 2 1 0 2 2 2 1 1 2 2 1 1 1 0 2 1 1\n",
      " 0]\n"
     ]
    },
    {
     "name": "stderr",
     "output_type": "stream",
     "text": [
      "C:\\Users\\Fabio\\AppData\\Local\\Packages\\PythonSoftwareFoundation.Python.3.10_qbz5n2kfra8p0\\LocalCache\\local-packages\\Python310\\site-packages\\sklearn\\cluster\\_kmeans.py:870: FutureWarning: The default value of `n_init` will change from 10 to 'auto' in 1.4. Set the value of `n_init` explicitly to suppress the warning\n",
      "  warnings.warn(\n"
     ]
    }
   ],
   "source": [
    "from sklearn.datasets import make_blobs\n",
    "from sklearn.cluster import KMeans\n",
    "\n",
    "# Generate data\n",
    "X, y = make_blobs(n_samples=1000, centers=3, random_state=42)\n",
    "\n",
    "# Cluster data\n",
    "kmeans = KMeans(n_clusters=3, random_state=42)\n",
    "labels = kmeans.fit_predict(X)\n",
    "\n",
    "# Print results\n",
    "print(\"Cluster labels:\", labels)\n"
   ]
  },
  {
   "attachments": {},
   "cell_type": "markdown",
   "metadata": {},
   "source": [
    "This code demonstrates how to use Scikit-learn's KMeans class to cluster data. First, we use the make_blobs function to \n",
    "### generate synthetic data with three clusters. Then, we create an instance of the KMeans class with three clusters and fit it to the data using the fit_predict method. Finally, we print the cluster labels assigned by the algorithm to the console."
   ]
  }
 ],
 "metadata": {
  "kernelspec": {
   "display_name": "Python 3",
   "language": "python",
   "name": "python3"
  },
  "language_info": {
   "codemirror_mode": {
    "name": "ipython",
    "version": 3
   },
   "file_extension": ".py",
   "mimetype": "text/x-python",
   "name": "python",
   "nbconvert_exporter": "python",
   "pygments_lexer": "ipython3",
   "version": "3.10.10 (tags/v3.10.10:aad5f6a, Feb  7 2023, 17:20:36) [MSC v.1929 64 bit (AMD64)]"
  },
  "orig_nbformat": 4,
  "vscode": {
   "interpreter": {
    "hash": "d143691b3b796dfa840125b678cbcfa24de4daa9df447a44f4f360662660234b"
   }
  }
 },
 "nbformat": 4,
 "nbformat_minor": 2
}
